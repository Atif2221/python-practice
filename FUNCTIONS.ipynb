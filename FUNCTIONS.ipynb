{
 "cells": [
  {
   "cell_type": "code",
   "execution_count": null,
   "id": "6b3d67f2-9a6f-46f0-af6d-d7077999ef4f",
   "metadata": {},
   "outputs": [],
   "source": [
    "FUNCTION OF SQUARE"
   ]
  },
  {
   "cell_type": "code",
   "execution_count": 6,
   "id": "3671e4fc-90c7-4291-8601-f16bee68f67a",
   "metadata": {},
   "outputs": [],
   "source": [
    "def square(x):\n",
    "    return x*x"
   ]
  },
  {
   "cell_type": "code",
   "execution_count": 7,
   "id": "9148cfed-053f-4787-959f-50245921deb8",
   "metadata": {},
   "outputs": [
    {
     "data": {
      "text/plain": [
       "25"
      ]
     },
     "execution_count": 7,
     "metadata": {},
     "output_type": "execute_result"
    }
   ],
   "source": [
    "square(5)"
   ]
  },
  {
   "cell_type": "code",
   "execution_count": null,
   "id": "5440ecf3-42f5-4adb-b10d-93d8e6c0c996",
   "metadata": {},
   "outputs": [],
   "source": [
    "FUNCTION OF POWER"
   ]
  },
  {
   "cell_type": "code",
   "execution_count": 14,
   "id": "8a8cdc59-2960-41d0-ad91-ec904c695ee8",
   "metadata": {},
   "outputs": [],
   "source": [
    "def pow(x, y):\n",
    "    return x**y"
   ]
  },
  {
   "cell_type": "code",
   "execution_count": 16,
   "id": "7aef792e-11c7-4807-84cc-6833f669d8a3",
   "metadata": {},
   "outputs": [
    {
     "data": {
      "text/plain": [
       "125"
      ]
     },
     "execution_count": 16,
     "metadata": {},
     "output_type": "execute_result"
    }
   ],
   "source": [
    "pow(5, 3)"
   ]
  },
  {
   "cell_type": "code",
   "execution_count": null,
   "id": "faf8582a-7026-43fa-ae2b-7c193f78ad3f",
   "metadata": {},
   "outputs": [],
   "source": [
    "EVEN NUMBER ODD NUMBER"
   ]
  },
  {
   "cell_type": "code",
   "execution_count": 123,
   "id": "cd47da0e-e31d-4502-b1d8-d6b8bba5b6e4",
   "metadata": {},
   "outputs": [],
   "source": [
    "def even_odd(x):\n",
    "    if(x%2 == 0):\n",
    "        print(\"its even number\")\n",
    "    else: \n",
    "        print(\"its odd number\")"
   ]
  },
  {
   "cell_type": "code",
   "execution_count": 124,
   "id": "5568d959-a0f3-42bf-93aa-2913cc513959",
   "metadata": {
    "scrolled": true
   },
   "outputs": [
    {
     "name": "stdout",
     "output_type": "stream",
     "text": [
      "its odd number\n"
     ]
    }
   ],
   "source": [
    "even_odd(111)"
   ]
  },
  {
   "cell_type": "code",
   "execution_count": null,
   "id": "1d81c93d-073f-4c90-8516-aa640ed32870",
   "metadata": {},
   "outputs": [],
   "source": [
    "Expressions"
   ]
  },
  {
   "cell_type": "code",
   "execution_count": 73,
   "id": "323b46af-a14b-422a-9655-82c2999c20c1",
   "metadata": {},
   "outputs": [
    {
     "name": "stdout",
     "output_type": "stream",
     "text": [
      "10.0\n"
     ]
    }
   ],
   "source": [
    "a = 5+10+15\n",
    "result = a/3\n",
    "print(result)"
   ]
  },
  {
   "cell_type": "code",
   "execution_count": null,
   "id": "72aab837-ab89-459f-8d21-af6c8ea4d85e",
   "metadata": {},
   "outputs": [],
   "source": [
    " Other Types of Expressions"
   ]
  },
  {
   "cell_type": "code",
   "execution_count": 76,
   "id": "9d5e8dee-f0d2-4122-88d8-81cebae16f1e",
   "metadata": {},
   "outputs": [
    {
     "name": "stdout",
     "output_type": "stream",
     "text": [
      "1\n"
     ]
    }
   ],
   "source": [
    "a = 10%3\n",
    "if(a == 1):\n",
    "    print (a)\n",
    "else:\n",
    "    print "
   ]
  },
  {
   "cell_type": "code",
   "execution_count": null,
   "id": "955964a2-1708-4c7c-bd66-07a300b7d53f",
   "metadata": {},
   "outputs": [],
   "source": [
    "Call Expressions"
   ]
  },
  {
   "cell_type": "code",
   "execution_count": 78,
   "id": "01297d4f-2cc8-4517-9d72-0396ad6b76ad",
   "metadata": {},
   "outputs": [
    {
     "name": "stdout",
     "output_type": "stream",
     "text": [
      "20\n"
     ]
    }
   ],
   "source": [
    "result = max(5, 20, 2)\n",
    "print (result)"
   ]
  },
  {
   "cell_type": "code",
   "execution_count": null,
   "id": "ee72e093-1c70-4505-ba40-5b1eb425fe0d",
   "metadata": {},
   "outputs": [],
   "source": [
    "Importing Library Functions"
   ]
  },
  {
   "cell_type": "code",
   "execution_count": 85,
   "id": "d340a550-e7bd-4bd2-886a-adde5af89c7e",
   "metadata": {},
   "outputs": [
    {
     "name": "stdout",
     "output_type": "stream",
     "text": [
      "12.0\n"
     ]
    }
   ],
   "source": [
    "from math import sqrt\n",
    "result = sqrt(144)\n",
    "print (result)"
   ]
  },
  {
   "cell_type": "code",
   "execution_count": null,
   "id": "52148fae-ad6d-42e9-b3df-454f65c2fbe3",
   "metadata": {},
   "outputs": [],
   "source": [
    "Naming the Numbers"
   ]
  },
  {
   "cell_type": "code",
   "execution_count": 86,
   "id": "87f64ef2-786e-4a93-952f-fb02ceedb42f",
   "metadata": {},
   "outputs": [
    {
     "name": "stdout",
     "output_type": "stream",
     "text": [
      "365\n"
     ]
    }
   ],
   "source": [
    "days_in_year = 365\n",
    "print (days_in_year)"
   ]
  },
  {
   "cell_type": "code",
   "execution_count": null,
   "id": "347176a0-0fd6-4350-b978-bed2d942dd58",
   "metadata": {},
   "outputs": [],
   "source": [
    "importing Variables from Libraries"
   ]
  },
  {
   "cell_type": "code",
   "execution_count": 89,
   "id": "743777d7-8720-40e1-ac1d-0f448eeb240c",
   "metadata": {},
   "outputs": [
    {
     "name": "stdout",
     "output_type": "stream",
     "text": [
      "Value of pi: 3.141592653589793\n",
      "circumference of circle: 31.41592653589793\n"
     ]
    }
   ],
   "source": [
    "from math import pi\n",
    "print (\"Value of pi:\", pi)\n",
    "#formula of finding circumference radius of 5 ( 2*pi*radius )\n",
    "circumferece_circle = 2*pi*5\n",
    "print (\"circumference of circle:\", circumferece_circle)"
   ]
  },
  {
   "cell_type": "code",
   "execution_count": null,
   "id": "c5780d1c-3d1d-496f-8596-3a3121cf6f81",
   "metadata": {},
   "outputs": [],
   "source": [
    "Naming Functions"
   ]
  },
  {
   "cell_type": "code",
   "execution_count": 90,
   "id": "513dbc99-2124-4d4e-b31f-5945d7860f0a",
   "metadata": {},
   "outputs": [],
   "source": [
    "def cube(x):\n",
    "    return x*x*x"
   ]
  },
  {
   "cell_type": "code",
   "execution_count": 92,
   "id": "6f4483ec-07d8-409f-8b7a-6be03d0ba206",
   "metadata": {},
   "outputs": [
    {
     "name": "stdout",
     "output_type": "stream",
     "text": [
      "27\n"
     ]
    }
   ],
   "source": [
    "result = cube(3)\n",
    "print (result)"
   ]
  },
  {
   "cell_type": "code",
   "execution_count": null,
   "id": "435696e0-780e-4649-a9a6-3414aa683dd4",
   "metadata": {},
   "outputs": [],
   "source": [
    "Defining New Functions"
   ]
  },
  {
   "cell_type": "code",
   "execution_count": 93,
   "id": "b480f43a-7fec-4ca0-ac83-456bcb51dff5",
   "metadata": {},
   "outputs": [],
   "source": [
    "def add_numbers(x, y):\n",
    "    return x+y"
   ]
  },
  {
   "cell_type": "code",
   "execution_count": 95,
   "id": "6a94a021-a545-42b0-b074-285ad6c86751",
   "metadata": {},
   "outputs": [
    {
     "name": "stdout",
     "output_type": "stream",
     "text": [
      "55\n"
     ]
    }
   ],
   "source": [
    "result = add_numbers(22, 33)\n",
    "print (result)"
   ]
  },
  {
   "cell_type": "code",
   "execution_count": null,
   "id": "61bafe13-fed8-4053-8ea1-4e3485cf1845",
   "metadata": {},
   "outputs": [],
   "source": [
    "Default Values"
   ]
  },
  {
   "cell_type": "code",
   "execution_count": 115,
   "id": "a98a1ca7-c5b8-47bc-b922-9203306ab7f3",
   "metadata": {},
   "outputs": [],
   "source": [
    "def print_info(name, age = 18):\n",
    "    print (\"your name is:\", name,  \"your age is:\", age)"
   ]
  },
  {
   "cell_type": "code",
   "execution_count": 117,
   "id": "e658794f-c608-4eac-a609-2addf28e01b1",
   "metadata": {},
   "outputs": [
    {
     "name": "stdout",
     "output_type": "stream",
     "text": [
      "your name is: Atif your age is: 18\n"
     ]
    }
   ],
   "source": [
    "print_info('Atif')"
   ]
  },
  {
   "cell_type": "code",
   "execution_count": null,
   "id": "3d510bbc-00fa-4265-bdfd-bab810ae90e2",
   "metadata": {},
   "outputs": [],
   "source": []
  }
 ],
 "metadata": {
  "kernelspec": {
   "display_name": "Python 3 (ipykernel)",
   "language": "python",
   "name": "python3"
  },
  "language_info": {
   "codemirror_mode": {
    "name": "ipython",
    "version": 3
   },
   "file_extension": ".py",
   "mimetype": "text/x-python",
   "name": "python",
   "nbconvert_exporter": "python",
   "pygments_lexer": "ipython3",
   "version": "3.11.7"
  }
 },
 "nbformat": 4,
 "nbformat_minor": 5
}
